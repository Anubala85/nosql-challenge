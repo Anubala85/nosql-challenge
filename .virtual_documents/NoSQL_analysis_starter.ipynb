





from pymongo import MongoClient
import pandas as pd
from pprint import pprint


# Create an instance of MongoClient
mongo = MongoClient(port=27017)


# assign the uk_food database to a variable name
db = mongo['uk_food']


# review the collections in our database
print(db.list_collection_names())


# assign the collection to a variable
establishments = db['establishments']








# Find the establishments with a hygiene score of 20
query = {"scores.Hygiene": 20}
results = establishments.find(query)

# Use count_documents to display the number of documents in the result
print("Number of documents in result:", establishments.count_documents(query), "\n")

# Display the first document in the results using pprint
pprint(results[0])


# Convert the result to a Pandas DataFrame
establishments_hygiene_20_df = pd.DataFrame (results)

# Display the number of rows in the DataFrame
print("Number of rows in dataframe:", establishments_hygiene_20_df.shape[0], "\n")

# Display the first 10 rows of the DataFrame
establishments_hygiene_20_df.head (10)





# Find the establishments with London as the Local Authority and has a RatingValue greater than or equal to 4.
query = {"LocalAuthorityName": {'$regex': 'London'}, "RatingValue": {'$gte': 4}}
results = establishments.find(query)

# Use count_documents to display the number of documents in the result
print("Number of documents in result:", establishments.count_documents(query), "\n")

# Display the first document in the results using pprint
pprint(results[0])


# Convert the result to a Pandas DataFrame
establishments_London_ratingvalue_gte_4_df = pd.DataFrame (results)

# Display the number of rows in the DataFrame
print("Number of rows in dataframe:", establishments_London_ratingvalue_gte_4_df.shape[0], "\n")

# Display the first 10 rows of the DataFrame
establishments_London_ratingvalue_gte_4_df.head (10)





# Search within 0.01 degree on either side of the latitude and longitude.
# Rating value must equal 5
# Sort by hygiene score

degree_search = 0.01
latitude = 51.490142
longitude = 0.08384

query = {'RatingValue': 5, 
         'geocode.latitude': {'$lte': (latitude + degree_search), '$gte': (latitude - degree_search)}, 
         'geocode.longitude': {'$lte': (longitude + degree_search), '$gte': (longitude - degree_search)} 
         }
sort = [('scores.Hygiene', 1)]
limit = 5

query_results = establishments.find(query).sort(sort).limit(limit)

# Print the results
for result in query_results:
    pprint(result)


# Convert result to Pandas DataFrame
est_near_PenangFlavours_RV_5_df = pd.DataFrame (establishments.find(query).sort(sort).limit(limit))
print("Number of rows in dataframe:", est_near_PenangFlavours_RV_5_df.shape[0], "\n")
est_near_PenangFlavours_RV_5_df





# Create a pipeline that:
# 1. Matches establishments with a hygiene score of 0
# 2. Groups the matches by Local Authority
# 3. Sorts the matches from highest to lowest

match_query = {'$match': {'scores.Hygiene': 0}}
group_query = {'$group': {'_id': '$LocalAuthorityName', 
                          'count': {'$sum': 1} } }
sort_query = {'$sort': {'count': -1}}

pipeline = [match_query, group_query, sort_query]

results = list(establishments.aggregate(pipeline))

# Print the number of documents in the result
print("Number of documents in result:", len (results), "\n")

# Print the first 10 results
pprint (results[0:10])


# Convert the result to a Pandas DataFrame
est_hygiene_0_by_localauth_df = pd.DataFrame (results)

# Display the number of rows in the DataFrame
print("Number of rows in dataframe:", est_hygiene_0_by_localauth_df.shape[0], "\n")

# Display the first 10 rows of the DataFrame
est_hygiene_0_by_localauth_df.head(10)



